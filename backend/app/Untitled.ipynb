{
 "cells": [
  {
   "cell_type": "code",
   "execution_count": 7,
   "id": "7ec2ea8e-5c9a-4a1d-929c-1b0c19def673",
   "metadata": {},
   "outputs": [],
   "source": [
    "from app.db.session import SessionLocal"
   ]
  },
  {
   "cell_type": "code",
   "execution_count": 8,
   "id": "842a63e0-65e8-4792-8b99-3d15e206cdef",
   "metadata": {},
   "outputs": [],
   "source": [
    "from app.models import *\n",
    "from fastapi.encoders import jsonable_encoder"
   ]
  },
  {
   "cell_type": "code",
   "execution_count": 12,
   "id": "5988f6d9-e07a-417b-a8c1-42e14b675a03",
   "metadata": {},
   "outputs": [],
   "source": [
    "db = SessionLocal()\n",
    "# tag1 = Tag(name=\"tag1\")\n",
    "# note1 = db.query(Note).filter_by(id=1).first()\n",
    "# note1.tags = [tag1]\n",
    "# db.add_all([tag1, note1])\n",
    "# db.commit()\n",
    "# db.close()\n",
    "    "
   ]
  },
  {
   "cell_type": "code",
   "execution_count": 23,
   "id": "c8e5d6ee-9f6f-412d-bc08-06ca8c448f4b",
   "metadata": {},
   "outputs": [
    {
     "data": {
      "text/plain": [
       "[{'name': 'happy', 'id': 1}]"
      ]
     },
     "execution_count": 23,
     "metadata": {},
     "output_type": "execute_result"
    }
   ],
   "source": [
    "tag1 = db.query(Tag).filter_by(id=1).first()\n",
    "jsonable_encoder([tag1])"
   ]
  },
  {
   "cell_type": "code",
   "execution_count": 25,
   "id": "e031dd94-8d8a-408c-b381-5648269b4a95",
   "metadata": {},
   "outputs": [],
   "source": [
    "tags_list = [tag1]\n",
    "obj_in_data = {'id': 1,\n",
    " 'title': 'My First Entry',\n",
    " 'start_date': '2022-05-22',\n",
    " 'color': 'pear',\n",
    " 'favourite': False,\n",
    " 'contents': 'string awd awd',\n",
    " 'author_id': 1,\n",
    " 'end_date': '2022-05-22'}\n",
    "new_note = Note(**obj_in_data, tags=tags_list)"
   ]
  },
  {
   "cell_type": "code",
   "execution_count": 10,
   "id": "6042e6db-d9b8-4b48-9eca-b8443b0163db",
   "metadata": {},
   "outputs": [],
   "source": [
    "tags = db.query(Tag).all()"
   ]
  },
  {
   "cell_type": "code",
   "execution_count": 11,
   "id": "f1d6f05e-0929-4c8e-9e42-34466b74d2bc",
   "metadata": {},
   "outputs": [
    {
     "data": {
      "text/plain": [
       "[{'id': 1, 'name': 'happy'},\n",
       " {'id': 2, 'name': 'tag1'},\n",
       " {'id': 3, 'name': 'newtag'},\n",
       " {'id': 4, 'name': 'lol'}]"
      ]
     },
     "execution_count": 11,
     "metadata": {},
     "output_type": "execute_result"
    }
   ],
   "source": [
    "jsonable_encoder(tags)"
   ]
  },
  {
   "cell_type": "code",
   "execution_count": 6,
   "id": "959a4a53-3d27-4d12-bf12-88a8331c1183",
   "metadata": {},
   "outputs": [
    {
     "data": {
      "text/plain": [
       "[{'contents': 'awdadwdddddd',\n",
       "  'author_id': 1,\n",
       "  'end_date': '2022-05-22',\n",
       "  'favourite': False,\n",
       "  'title': None,\n",
       "  'id': 9,\n",
       "  'start_date': '2022-05-22',\n",
       "  'color': 'pear'}]"
      ]
     },
     "execution_count": 6,
     "metadata": {},
     "output_type": "execute_result"
    }
   ],
   "source": [
    "jsonable_encoder(tags[2].notes)"
   ]
  },
  {
   "cell_type": "code",
   "execution_count": 67,
   "id": "b5b46f1a-340d-443c-ac03-b7dbbd1f4338",
   "metadata": {},
   "outputs": [
    {
     "data": {
      "text/plain": [
       "[{'contents': 'awdadwdddddd',\n",
       "  'author_id': 2,\n",
       "  'end_date': '2022-05-22',\n",
       "  'favourite': True,\n",
       "  'title': None,\n",
       "  'id': 12,\n",
       "  'start_date': '2022-05-22',\n",
       "  'color': 'pear'}]"
      ]
     },
     "execution_count": 67,
     "metadata": {},
     "output_type": "execute_result"
    }
   ],
   "source": [
    "tags = ['lol', \"awd1\"]\n",
    "# tags = db.query(Tag).filter(Tag.name.in_(tags)).all()\n",
    "# db.query(Note).filter(Note.author_id == 1).filter(Note.tags.id.in_([t.id for t in tags])).all()\n",
    "results = db.query(Note).filter(Note.author_id == 2)\n",
    "for tag in tags:\n",
    "    results = results.filter(Note.tags.any(name=tag))\n",
    "jsonable_encoder(results.all())"
   ]
  },
  {
   "cell_type": "code",
   "execution_count": 59,
   "id": "240f48d1-98f8-43f3-97bc-5ec9b608bebc",
   "metadata": {},
   "outputs": [
    {
     "data": {
      "text/plain": [
       "['__add__',\n",
       " '__and__',\n",
       " '__class__',\n",
       " '__class_getitem__',\n",
       " '__clause_element__',\n",
       " '__contains__',\n",
       " '__delattr__',\n",
       " '__delete__',\n",
       " '__dict__',\n",
       " '__dir__',\n",
       " '__div__',\n",
       " '__doc__',\n",
       " '__eq__',\n",
       " '__format__',\n",
       " '__ge__',\n",
       " '__get__',\n",
       " '__getattr__',\n",
       " '__getattribute__',\n",
       " '__getitem__',\n",
       " '__gt__',\n",
       " '__hash__',\n",
       " '__init__',\n",
       " '__init_subclass__',\n",
       " '__invert__',\n",
       " '__le__',\n",
       " '__lshift__',\n",
       " '__lt__',\n",
       " '__mod__',\n",
       " '__module__',\n",
       " '__mul__',\n",
       " '__ne__',\n",
       " '__neg__',\n",
       " '__new__',\n",
       " '__or__',\n",
       " '__orig_bases__',\n",
       " '__parameters__',\n",
       " '__radd__',\n",
       " '__rdiv__',\n",
       " '__reduce__',\n",
       " '__reduce_ex__',\n",
       " '__repr__',\n",
       " '__rmod__',\n",
       " '__rmul__',\n",
       " '__rshift__',\n",
       " '__rsub__',\n",
       " '__rtruediv__',\n",
       " '__set__',\n",
       " '__setattr__',\n",
       " '__sizeof__',\n",
       " '__slots__',\n",
       " '__str__',\n",
       " '__sub__',\n",
       " '__subclasshook__',\n",
       " '__truediv__',\n",
       " '__visit_name__',\n",
       " '__weakref__',\n",
       " '_adapt_to_entity',\n",
       " '_annotations',\n",
       " '_assert_no_memoizations',\n",
       " '_bulk_update_tuples',\n",
       " '_cache_key_traversal',\n",
       " '_clone',\n",
       " '_copy_internals',\n",
       " '_entity_namespace',\n",
       " '_extra_criteria',\n",
       " '_from_objects',\n",
       " '_gen_cache_key',\n",
       " '_generate_cache_attrs',\n",
       " '_generate_cache_key',\n",
       " '_generate_cache_key_for_object',\n",
       " '_hierarchy_supports_caching',\n",
       " '_impl_uses_objects',\n",
       " '_is_has_cache_key',\n",
       " '_is_immutable',\n",
       " '_is_internal_proxy',\n",
       " '_is_protocol',\n",
       " '_memoized_keys',\n",
       " '_of_type',\n",
       " '_parententity',\n",
       " '_parentmapper',\n",
       " '_post_inspect',\n",
       " '_propagate_attrs',\n",
       " '_reset_memoizations',\n",
       " '_role_name',\n",
       " '_set_memoized_attribute',\n",
       " '_supports_population',\n",
       " 'adapt_to_entity',\n",
       " 'adapter',\n",
       " 'all_',\n",
       " 'allows_lambda',\n",
       " 'and_',\n",
       " 'any',\n",
       " 'any_',\n",
       " 'any_op',\n",
       " 'asc',\n",
       " 'between',\n",
       " 'bool_op',\n",
       " 'class_',\n",
       " 'collate',\n",
       " 'comparator',\n",
       " 'concat',\n",
       " 'contains',\n",
       " 'desc',\n",
       " 'dispatch',\n",
       " 'distinct',\n",
       " 'endswith',\n",
       " 'expression',\n",
       " 'extension_type',\n",
       " 'get_history',\n",
       " 'has',\n",
       " 'has_op',\n",
       " 'hasparent',\n",
       " 'ilike',\n",
       " 'impl',\n",
       " 'in_',\n",
       " 'info',\n",
       " 'inherit_cache',\n",
       " 'is_',\n",
       " 'is_aliased_class',\n",
       " 'is_attribute',\n",
       " 'is_bundle',\n",
       " 'is_clause_element',\n",
       " 'is_distinct_from',\n",
       " 'is_instance',\n",
       " 'is_mapper',\n",
       " 'is_not',\n",
       " 'is_not_distinct_from',\n",
       " 'is_property',\n",
       " 'is_selectable',\n",
       " 'isnot',\n",
       " 'isnot_distinct_from',\n",
       " 'key',\n",
       " 'label',\n",
       " 'like',\n",
       " 'match',\n",
       " 'memoized_attribute',\n",
       " 'memoized_instancemethod',\n",
       " 'not_ilike',\n",
       " 'not_in',\n",
       " 'not_like',\n",
       " 'notilike',\n",
       " 'notin_',\n",
       " 'notlike',\n",
       " 'nulls_first',\n",
       " 'nulls_last',\n",
       " 'nullsfirst',\n",
       " 'nullslast',\n",
       " 'of_type',\n",
       " 'of_type_op',\n",
       " 'op',\n",
       " 'operate',\n",
       " 'params',\n",
       " 'parent',\n",
       " 'prop',\n",
       " 'property',\n",
       " 'regexp_match',\n",
       " 'regexp_replace',\n",
       " 'reverse_operate',\n",
       " 'startswith',\n",
       " 'timetuple',\n",
       " 'unique_params',\n",
       " 'uses_inspection']"
      ]
     },
     "execution_count": 59,
     "metadata": {},
     "output_type": "execute_result"
    }
   ],
   "source": [
    "dir(Note.tags)"
   ]
  },
  {
   "cell_type": "code",
   "execution_count": null,
   "id": "47e1af51-05af-4887-8b5a-e73fa1901f1e",
   "metadata": {},
   "outputs": [],
   "source": []
  },
  {
   "cell_type": "code",
   "execution_count": null,
   "id": "9e0193e1-96e2-4c2e-a2bc-3adb92f14343",
   "metadata": {},
   "outputs": [],
   "source": []
  }
 ],
 "metadata": {
  "kernelspec": {
   "display_name": "Python 3 (ipykernel)",
   "language": "python",
   "name": "python3"
  },
  "language_info": {
   "codemirror_mode": {
    "name": "ipython",
    "version": 3
   },
   "file_extension": ".py",
   "mimetype": "text/x-python",
   "name": "python",
   "nbconvert_exporter": "python",
   "pygments_lexer": "ipython3",
   "version": "3.9.7"
  }
 },
 "nbformat": 4,
 "nbformat_minor": 5
}
